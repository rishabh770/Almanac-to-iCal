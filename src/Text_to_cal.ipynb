{
  "nbformat": 4,
  "nbformat_minor": 0,
  "metadata": {
    "colab": {
      "provenance": []
    },
    "kernelspec": {
      "name": "python3",
      "display_name": "Python 3"
    },
    "language_info": {
      "name": "python"
    }
  },
  "cells": [
    {
      "cell_type": "code",
      "execution_count": 2,
      "metadata": {
        "colab": {
          "base_uri": "https://localhost:8080/"
        },
        "id": "CdF77LaZjAYn",
        "outputId": "5c1ca055-035c-40c7-d15f-383217294c85"
      },
      "outputs": [
        {
          "output_type": "stream",
          "name": "stdout",
          "text": [
            "Mounted at /content/drive\n"
          ]
        }
      ],
      "source": [
        "from google.colab import drive\n",
        "drive.mount('/content/drive')"
      ]
    },
    {
      "cell_type": "code",
      "source": [
        "!sudo apt install tesseract-ocr\n",
        "!pip install pytesseract"
      ],
      "metadata": {
        "id": "OaM075lL7fbC"
      },
      "execution_count": null,
      "outputs": []
    },
    {
      "cell_type": "code",
      "source": [
        "import os\n",
        "import math\n",
        "import matplotlib.pyplot as plt\n",
        "from google.colab.patches import cv2\n",
        "from google.colab.patches import cv2_imshow\n",
        "import numpy as np\n",
        "import pytesseract\n",
        "import re\n",
        "\n",
        "IMG_FOLDER_PATH = \"/content/drive/MyDrive/DIP_Assignment4\""
      ],
      "metadata": {
        "id": "9QhecGNXjl_N"
      },
      "execution_count": 1,
      "outputs": []
    },
    {
      "cell_type": "code",
      "source": [
        "lMain = \"Important Dates (Green)\\n\\n26/07 to 27/07: Registration/Reporting\\n\\n28/07: First Day of Classes\\n\\n04/08: Add/Drop, Late Regstn.\\n\\n15/03: Withdrawal of course/proj with “‘W’ Grade\\n16/1: Last Day of Classes\\n\\n17-18/11: Preparation Day for End Exams\\n\\n28/11 to 4/12 Paper Checking & Distribution\\n06/12: Start of Winter Vacation\""
      ],
      "metadata": {
        "id": "uFaWW1EZs_9k"
      },
      "execution_count": 42,
      "outputs": []
    },
    {
      "cell_type": "code",
      "source": [
        "print(lMain)"
      ],
      "metadata": {
        "colab": {
          "base_uri": "https://localhost:8080/"
        },
        "id": "wkx8_r2Qt4KD",
        "outputId": "fa061171-7bfd-4ab5-8627-d17af272f79a"
      },
      "execution_count": 43,
      "outputs": [
        {
          "output_type": "stream",
          "name": "stdout",
          "text": [
            "Important Dates (Green)\n",
            "\n",
            "26/07 to 27/07: Registration/Reporting\n",
            "\n",
            "28/07: First Day of Classes\n",
            "\n",
            "04/08: Add/Drop, Late Regstn.\n",
            "\n",
            "15/03: Withdrawal of course/proj with “‘W’ Grade\n",
            "16/1: Last Day of Classes\n",
            "\n",
            "17-18/11: Preparation Day for End Exams\n",
            "\n",
            "28/11 to 4/12 Paper Checking & Distribution\n",
            "06/12: Start of Winter Vacation\n"
          ]
        }
      ]
    },
    {
      "cell_type": "markdown",
      "source": [
        "### Detecting dates and events"
      ],
      "metadata": {
        "id": "pr5Pcu2grzSW"
      }
    },
    {
      "cell_type": "code",
      "source": [
        "l0 = \"Important Dates (Green)\"\n",
        "l1 = \"26/07 to 27/07: Registration/Reporting\"\n",
        "l2 = \"28/07: First Day of Classes\"\n",
        "l3 = \"04/08: Add/Drop, Late Regstn.\"\n",
        "l4 = \"15/03: Withdrawal of course/proj with “‘W’ Grade\"\n",
        "l5 = \"16/1: Last Day of Classes\"\n",
        "l6 = \"17-18/11: Preparation Day for End Exams\"\n",
        "l7 = \"28/11 to 4/12 Paper Checking & Distribution\"\n",
        "l8 = \"06/12: Start of Winter Vacation\"\n",
        "l9 = \"02/12/99: Random event\"\n",
        "l10 = \"12/5/21 to 16/6/22: Break\"\n",
        "l11 = \"BTP 1st Report(in PPT) Submission: 25/1\"\n",
        "l12 = \"Project Grade Due:25/5\"\n",
        "l13 = \"27/4,28/4:Lab Exams and\"\n",
        "l14 = \"27/4 & 28/4:Lab Exams and\"\n",
        "\n",
        "lMain = [l0, l1, l2, l3, l4, l5, l6, l7, l8]\n",
        "# 11/02-19/03:\n",
        "# 17/03-19\n",
        "# Cases: -\n",
        "# "
      ],
      "metadata": {
        "id": "ezRh9Vy1rytl"
      },
      "execution_count": 34,
      "outputs": []
    },
    {
      "cell_type": "markdown",
      "source": [
        "### code not inside function"
      ],
      "metadata": {
        "id": "YW6OdxT_KRTD"
      }
    },
    {
      "cell_type": "code",
      "source": [
        "li = re.split(r\" / | /|/ |/| to | to|to |to| - | -|- |-| : | :|: |:| , | ,|, |,| & | &|& |&| \", l14)\n",
        "# li = re.split(r\"/| to | - |-|: |:| \", l12)\n",
        "# split delimiters: \"/\", \" to \", \" - \", \"-\", \": \", \" \"\n",
        "## \"&\" cannot be delimiter as it doesn't signify an interval, rather two dates\n",
        "#  having the same event\n",
        "## although in hindsight it works as such because \"&\" is used whenever the event\n",
        "#  is two days long (consecutive days)\n",
        "date1, month1, year1 = None, None, None\n",
        "date2, month2, year2 = None, None, None\n",
        "slCount = 0\n",
        "clCount = 0\n",
        "hyCount = 0\n",
        "idCount = 0\n",
        "numCount = 0\n",
        "ids = []\n",
        "\n",
        "if (li[0].isnumeric()):\n",
        "    for i in range(len(li)):\n",
        "        if (li[i].isnumeric()):\n",
        "            numCount += 1\n",
        "            ids.append(i)\n",
        "        \n",
        "        if not((li[i+1].isnumeric())):\n",
        "            break\n",
        "else:\n",
        "    for i in range(len(li)):\n",
        "        if (li[i].isnumeric()):\n",
        "            numCount += 1\n",
        "            ids.append(i)\n",
        "\n",
        "\n",
        "if numCount == 2:\n",
        "    date1, date2 = int(li[ids[0]]), int(li[ids[0]])\n",
        "    month1, month2 = int(li[ids[1]]), int(li[ids[1]])\n",
        "    year1, year2 = 2022, 2022 # dynamic value will be obtained by Rishabh\n",
        "    \n",
        "# if numCount==3 but third number is >12, then format is DD/MM/YY\n",
        "elif numCount == 3:\n",
        "    if int(li[ids[2]]) > 12:\n",
        "        if int(li[ids[2]]) < 100:\n",
        "            date1, date2 = int(li[ids[0]]), int(li[ids[0]])\n",
        "            month1, month2 = int(li[ids[1]]), int(li[ids[1]])\n",
        "            year1, year2 = 2000+int(li[ids[2]]), 2000+int(li[ids[2]])\n",
        "        else:\n",
        "            date1, date2 = int(li[ids[0]]), int(li[ids[0]])\n",
        "            month1, month2 = int(li[ids[1]]), int(li[ids[1]])\n",
        "            year1, year2 = int(li[ids[2]]), int(li[ids[2]])\n",
        "    else:\n",
        "        date1 = int(li[ids[0]])\n",
        "        date2 = int(li[ids[1]])\n",
        "        month1, month2 = int(li[ids[2]]), int(li[ids[2]])\n",
        "        year1, year2 = 2022, 2022\n",
        "elif numCount == 4:\n",
        "    date1, month1 = int(li[ids[0]]), int(li[ids[1]])\n",
        "    date2, month2 = int(li[ids[2]]), int(li[ids[3]])\n",
        "    year1, year2 = 2022, 2022\n",
        "elif numCount == 6:\n",
        "    if int(li[ids[2]]) < 100:\n",
        "        date1, month1, year1 = int(li[ids[0]]), int(li[ids[1]]), 2000+int(li[ids[2]])\n",
        "        date2, month2, year2 = int(li[ids[3]]), int(li[ids[4]]), 2000+int(li[ids[5]])\n",
        "    else:\n",
        "        date1, month1, year1 = int(li[ids[0]]), int(li[ids[1]]), int(li[ids[2]])\n",
        "        date2, month2, year2 = int(li[ids[3]]), int(li[ids[4]]), int(li[ids[5]])\n",
        "\n",
        "# if numCount==6 (2020-21 Almanac UG1 Term2), then we have 2 dates both of the\n",
        "# format DD/MM/YY(YY)\n",
        "\n",
        "print(f\"Date1: {date1}-{month1}-{year1}\\nDate2: {date2}-{month2}-{year2}\")\n",
        "# print(date1, date2, month1, month2, year1, year2)\n",
        "\n"
      ],
      "metadata": {
        "colab": {
          "base_uri": "https://localhost:8080/"
        },
        "id": "E9CvxF1RsEfP",
        "outputId": "739ffd34-85f4-4816-c3be-b2ca335c86c6"
      },
      "execution_count": 33,
      "outputs": [
        {
          "output_type": "stream",
          "name": "stdout",
          "text": [
            "Date1: 27-4-2022\n",
            "Date2: 28-4-2022\n"
          ]
        }
      ]
    },
    {
      "cell_type": "markdown",
      "source": [
        "### Text to Calendar code inside function"
      ],
      "metadata": {
        "id": "XtkKArwTKVv8"
      }
    },
    {
      "cell_type": "code",
      "source": [
        "def txt2Cal(boxDates, year):\n",
        "\n",
        "    for m in range(len(boxDates)):\n",
        "        date1, month1, year1 = None, None, None\n",
        "        date2, month2, year2 = None, None, None\n",
        "        numCount = 0\n",
        "        # maxDate = None\n",
        "        maxID = None\n",
        "        strList = \"\"\n",
        "        ids = []\n",
        "        li = re.split(r\" / | /|/ |/| to | to|to |to| - | -|- |-| : | :|: |:| , | ,|, |,| & | &|& |&| \", boxDates[m])\n",
        "\n",
        "        # no. of numbers indicating date are counted\n",
        "        if (li[0].isnumeric()):\n",
        "            for i in range(len(li)):\n",
        "                if (li[i].isnumeric()):\n",
        "                    numCount += 1\n",
        "                    ids.append(i)\n",
        "                \n",
        "                if not((li[i+1].isnumeric())):\n",
        "                    maxID = i\n",
        "                    break\n",
        "        else:\n",
        "            for i in range(len(li)):\n",
        "                if (li[i].isnumeric()):\n",
        "                    numCount += 1\n",
        "                    ids.append(i)\n",
        "                    if not(li[i-1].isnumeric()):\n",
        "                        maxID = i\n",
        "\n",
        "        # based on no. of numbers obtained, input date format is decided\n",
        "\n",
        "        # order: date1, month1\n",
        "        # here date2=date2, month2=month1; year is input year\n",
        "        if (numCount == 2):\n",
        "            date1, date2 = int(li[ids[0]]), int(li[ids[0]])\n",
        "            month1, month2 = int(li[ids[1]]), int(li[ids[1]])\n",
        "            year1, year2 = year, year\n",
        "\n",
        "        #3 date numbers are given\n",
        "        elif (numCount == 3):\n",
        "            if int(li[ids[2]]) > 12:\n",
        "                # DD/MM/YY format provided; YY converted to YYYY\n",
        "                if int(li[ids[2]]) < 100:\n",
        "                    date1, date2 = int(li[ids[0]]), int(li[ids[0]])\n",
        "                    month1, month2 = int(li[ids[1]]), int(li[ids[1]])\n",
        "                    year1, year2 = 2000+int(li[ids[2]]), 2000+int(li[ids[2]])\n",
        "                # DD/MM/YYYY format provided\n",
        "                else:\n",
        "                    date1, date2 = int(li[ids[0]]), int(li[ids[0]])\n",
        "                    month1, month2 = int(li[ids[1]]), int(li[ids[1]])\n",
        "                    year1, year2 = int(li[ids[2]]), int(li[ids[2]])\n",
        "            # order: date1, date2, month1\n",
        "            # here month2=month1; year is input year\n",
        "            else:\n",
        "                date1 = int(li[ids[0]])\n",
        "                date2 = int(li[ids[1]])\n",
        "                month1, month2 = int(li[ids[2]]), int(li[ids[2]])\n",
        "                year1, year2 = year, year\n",
        "        \n",
        "        # order: date1, month1, date2, month2\n",
        "        # year is input year\n",
        "        elif (numCount == 4):\n",
        "            date1, month1 = int(li[ids[0]]), int(li[ids[1]])\n",
        "            date2, month2 = int(li[ids[2]]), int(li[ids[3]])\n",
        "            year1, year2 = year, year\n",
        "        \n",
        "        # order: date1, month1, year1, date2, month2, year2\n",
        "        elif (numCount == 6):\n",
        "            if int(li[ids[2]]) < 100:\n",
        "                date1, month1, year1 = int(li[ids[0]]), int(li[ids[1]]), 2000+int(li[ids[2]])\n",
        "                date2, month2, year2 = int(li[ids[3]]), int(li[ids[4]]), 2000+int(li[ids[5]])\n",
        "            else:\n",
        "                date1, month1, year1 = int(li[ids[0]]), int(li[ids[1]]), int(li[ids[2]])\n",
        "                date2, month2, year2 = int(li[ids[3]]), int(li[ids[4]]), int(li[ids[5]])\n",
        "        \n",
        "        if (li[0].isnumeric()):\n",
        "            for n in range(maxID+1, len(li)):\n",
        "                strList += li[n]\n",
        "        elif not(li[0].isnumeric()):\n",
        "            for n in range(maxID):\n",
        "                strList += li[n]\n",
        "        \n",
        "        return \n",
        "\n",
        "        "
      ],
      "metadata": {
        "id": "nva6Xso4_RAX"
      },
      "execution_count": null,
      "outputs": []
    },
    {
      "cell_type": "code",
      "source": [
        "ab = \"lajksdjnjkashbdibhasd\\nashjdgkyuahjgsd\"\n",
        "a = np.array([[2,3],[4,5]]).astype(np.int64)\n",
        "print(a)"
      ],
      "metadata": {
        "colab": {
          "base_uri": "https://localhost:8080/"
        },
        "id": "k76ccDqCDmVi",
        "outputId": "183d98f4-0bbb-4644-a63a-49f2cc5ce830"
      },
      "execution_count": 55,
      "outputs": [
        {
          "output_type": "stream",
          "name": "stdout",
          "text": [
            "[[2 3]\n",
            " [4 5]]\n"
          ]
        }
      ]
    }
  ]
}