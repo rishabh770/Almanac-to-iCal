{
  "nbformat": 4,
  "nbformat_minor": 0,
  "metadata": {
    "colab": {
      "provenance": []
    },
    "kernelspec": {
      "name": "python3",
      "display_name": "Python 3"
    },
    "language_info": {
      "name": "python"
    }
  },
  "cells": [
    {
      "cell_type": "code",
      "execution_count": null,
      "metadata": {
        "id": "1E-rpdJ5ipTA"
      },
      "outputs": [],
      "source": [
        "import numpy as np\n",
        "import cv2\n",
        "from google.colab.patches import cv2_imshow\n",
        "\n",
        "\n",
        "alma22 = cv2.imread(\"/content/drive/MyDrive/Project DIP/Alamanac-S23-Final_pages-to-jpg-0001.jpg\")\n",
        "\n",
        "def corner(alma2):\n",
        "  al = np.zeros(alma.shape)\n",
        "\n",
        "\n",
        "\n",
        "  gray1 = cv2.cvtColor(alma,cv2.COLOR_BGR2GRAY)\n",
        "  gray1 = np.float32(gray1)\n",
        "\n",
        "\n",
        "  r, gray1 = cv2.threshold(gray1,150,255,cv2.THRESH_BINARY_INV)\n",
        "  cv2_imshow(gray1)\n",
        "  kernel = np.ones((3,3),np.uint8)*255\n",
        "  gray = cv2.erode(gray1,kernel,iterations = 1)  \n",
        "\n",
        "  cv2_imshow(gray)\n",
        "\n",
        "  dst = cv2.cornerHarris(gray,7,3,0.2)\n",
        "  #result is dilated for marking the corners, not important\n",
        "  dst = cv2.dilate(dst,None)\n",
        "\n",
        "  # Threshold for an optimal value, it may vary depending on the image.\n",
        "  alma[dst>0.3*dst.max()]=[0,0,255]\n",
        "\n",
        "  al[dst>0.3*dst.max()]=[0,0,255]\n",
        "  cv2_imshow(alma)\n",
        "\n",
        "  cv2_imshow(al)\n",
        "  if cv2.waitKey(0) & 0xff == 27:\n",
        "      cv2.destroyAllWindows()\n",
        "\n",
        "corner(alma22)"
      ]
    }
  ]
}