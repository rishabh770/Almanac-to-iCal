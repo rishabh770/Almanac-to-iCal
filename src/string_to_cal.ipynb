{
  "cells": [
    {
      "cell_type": "code",
      "execution_count": 1,
      "metadata": {
        "colab": {
          "base_uri": "https://localhost:8080/"
        },
        "id": "CdF77LaZjAYn",
        "outputId": "308e1209-4381-414f-fb44-866eedc86772"
      },
      "outputs": [],
      "source": [
        "# from google.colab import drive\n",
        "# drive.mount('/content/drive')"
      ]
    },
    {
      "cell_type": "code",
      "execution_count": 2,
      "metadata": {
        "id": "9QhecGNXjl_N"
      },
      "outputs": [],
      "source": [
        "import os\n",
        "import math\n",
        "import matplotlib.pyplot as plt\n",
        "# from google.colab.patches import cv2\n",
        "# from google.colab.patches import cv2_imshow\n",
        "import numpy as np\n",
        "import pytesseract\n",
        "import re\n",
        "\n",
        "# IMG_FOLDER_PATH = \"/content/drive/MyDrive/DIP_Assignment4\""
      ]
    },
    {
      "cell_type": "code",
      "execution_count": 3,
      "metadata": {
        "id": "jjIpCDLNj67a"
      },
      "outputs": [],
      "source": [
        "# !sudo apt install tesseract-ocr\n",
        "# !pip install pytesseract"
      ]
    },
    {
      "cell_type": "code",
      "execution_count": 4,
      "metadata": {
        "id": "uFaWW1EZs_9k"
      },
      "outputs": [],
      "source": [
        "lMain = \"Important Dates (Green)\\\\\\\n",
        "\\\\\\\n",
        "26/07 to 27/07: Registration/Reporting\\\\\\\n",
        "\\\\\\\n",
        "28/07: First Day of Classes\\\\\\\n",
        "\\\\\\\n",
        "04/08: Add/Drop, Late Regstn.\\\\\\\n",
        "\\\\\\\n",
        "15/03: Withdrawal of course/proj with “‘W’ Grade\\\\\\\n",
        "16/1: Last Day of Classes\\\\\\\n",
        "\\\\\\\n",
        "17-18/11: Preparation Day for End Exams\\\\\\\n",
        "\\\\\\\n",
        "28/11 to 4/12 Paper Checking & Distribution\\\\\\\n",
        "06/12: Start of Winter Vacation\""
      ]
    },
    {
      "cell_type": "markdown",
      "metadata": {
        "id": "pr5Pcu2grzSW"
      },
      "source": [
        "# Detecting dates and events"
      ]
    },
    {
      "cell_type": "code",
      "execution_count": 5,
      "metadata": {
        "id": "ezRh9Vy1rytl"
      },
      "outputs": [],
      "source": [
        "l0 = \"Important Dates (Green)\"\n",
        "l1 = \"26/07 to 27/07: Registration/Reporting\"\n",
        "l2 = \"28/07: First Day of Classes\"\n",
        "l3 = \"04/08: Add/Drop, Late Regstn.\"\n",
        "l4 = \"15/03: Withdrawal of course/proj with “‘W’ Grade\"\n",
        "l5 = \"16/1: Last Day of Classes\"\n",
        "l6 = \"17-18/11: Preparation Day for End Exams\"\n",
        "l7 = \"28/11 to 4/12 Paper Checking & Distribution\"\n",
        "l8 = \"06/12: Start of Winter Vacation\"\n",
        "l9 = \"02/12/2023: Maa ka bhosda\"\n",
        "\n",
        "lMain = [l0, l1, l2, l3, l4, l5, l6, l7, l8]\n",
        "# 11/02-19/03:\n",
        "# 17/03-19\n",
        "# Cases: -\n",
        "# "
      ]
    },
    {
      "cell_type": "code",
      "execution_count": 6,
      "metadata": {
        "colab": {
          "base_uri": "https://localhost:8080/"
        },
        "id": "E9CvxF1RsEfP",
        "outputId": "2c5d7ed1-260c-4eef-8e77-bd360a0cb1c7"
      },
      "outputs": [
        {
          "name": "stdout",
          "output_type": "stream",
          "text": [
            "Date1: 2-12-2023\n",
            "Date2: 2-12-2023\n"
          ]
        }
      ],
      "source": [
        "# li = re.split(r\"[ /:]\", l1)\n",
        "li = re.split(r\"/| to |-|: | \", l9)\n",
        "# li\n",
        "# li = [26, ]\n",
        "# lMain[2]\n",
        "# xx/xx to xx/xx\n",
        "# xx-xx/xx\n",
        "# xx/xx-xx\n",
        "# xx/xx-xx/xx\n",
        "date1, month1, year1 = None, None, None\n",
        "date2, month2, year2 = None, None, None\n",
        "slCount = 0\n",
        "clCount = 0\n",
        "hyCount = 0\n",
        "idCount = 0\n",
        "numCount = 0\n",
        "ids = []\n",
        "\n",
        "for i in range(len(li)):\n",
        "    if (li[i].isnumeric()):\n",
        "        numCount += 1\n",
        "        ids.append(i)\n",
        "        \n",
        "        if not((li[i+1].isnumeric())):\n",
        "            break\n",
        "\n",
        "if numCount == 2:\n",
        "    date1, date2 = int(li[ids[0]]), int(li[ids[0]])\n",
        "    month1, month2 = int(li[ids[1]]), int(li[ids[1]])\n",
        "    year1, year2 = 2022, 2022 # dynamic value will be obtained by Rishabh\n",
        "elif numCount == 3:\n",
        "    if int(li[ids[2]]) > 2000:\n",
        "        date1, date2 = int(li[ids[0]]), int(li[ids[0]])\n",
        "        month1, month2 = int(li[ids[1]]), int(li[ids[1]])\n",
        "        year1, year2 = int(li[ids[2]]), int(li[ids[2]])\n",
        "    else:\n",
        "        date1 = int(li[ids[0]])\n",
        "        date2 = int(li[ids[1]])\n",
        "        month1, month2 = int(li[ids[2]]), int(li[ids[2]])\n",
        "        year1, year2 = 2022, 2022\n",
        "elif numCount == 4:\n",
        "    date1, month1 = int(li[ids[0]]), int(li[ids[1]])\n",
        "    date2, month2 = int(li[ids[2]]), int(li[ids[3]])\n",
        "    year1, year2 = 2022, 2022\n",
        "\n",
        "print(f\"Date1: {date1}-{month1}-{year1}\\nDate2: {date2}-{month2}-{year2}\")\n",
        "# print(date1, date2, month1, month2, year1, year2)\n",
        "# l0 = \"Important Dates (Green)\"\n",
        "# l1 = \"26/07 to 27/07: Registration/Reporting\"\n",
        "# l2 = \"28/07: First Day of Classes\"\n",
        "# l3 = \"04/08: Add/Drop, Late Regstn.\"\n",
        "# l4 = \"15/03: Withdrawal of course/proj with “‘W’ Grade\"\n",
        "# l5 = \"16/1: Last Day of Classes\"\n",
        "# l6 = \"17-18/11: Preparation Day for End Exams\"\n",
        "# l7 = \"28/11 to 4/12 Paper Checking & Distribution\"\n",
        "# l8 = \"06/12: Start of Winter Vacation\"\n",
        "\n"
      ]
    },
    {
      "cell_type": "code",
      "execution_count": 7,
      "metadata": {},
      "outputs": [],
      "source": [
        "import uuid\n",
        "my_uuid = uuid.uuid4()\n",
        "\n",
        "f = open(\"./trial1.ics\", \"w\")\n",
        "\n",
        "start_calendar = \"BEGIN:VCALENDAR\\nPRODID:-//Team Not Devoid//EN\\nVERSION:2.0\\nCALSCALE:GREGORIAN\\nMETHOD:PUBLISH\\nX-WR-CALNAME:IIIT Almanac\\nX-WR-TIMEZONE:Asia/Kolkata\\n\"\n",
        "\n",
        "time_zone_initial = \"BEGIN:VTIMEZONE\\nTZID:Asia/Kolkata\\nX-LIC-LOCATION:Asia/Kolkata\\nBEGIN:STANDARD\\nTZOFFSETFROM:+0530\\nTZOFFSETTO:+0530\\nTZNAME:IST\\nDTSTART:19700101T000000\\nEND:STANDARD\\nEND:VTIMEZONE\\n\"\n",
        "\n",
        "f.write(start_calendar)\n",
        "f.write(time_zone_initial)\n",
        "\n",
        "description = \"Lunchtime Meeting\"\n",
        "event = \"\"\n",
        "event += \"BEGIN:VEVENT\\n\"\n",
        "event += f\"DTSTART;VALUE=DATE:{str(year1)+ str(month1).zfill(2)+str(date1).zfill(2)}\\n\"\n",
        "event += f\"DTEND;VALUE=DATE:{str(year2)+str(month2).zfill(2)+str(date2).zfill(2)}\\n\"\n",
        "event += f\"UID:{str(my_uuid)}\\n\"\n",
        "event += f\"DESCRIPTION: {description}\\n\"\n",
        "event += f\"SUMMARY: {description}\\n\"\n",
        "event += \"END:VEVENT\\n\"\n",
        "\n",
        "f.write(event)\n",
        "f.write(\"END:VCALENDAR\")\n",
        "\n",
        "f.close()"
      ]
    }
  ],
  "metadata": {
    "colab": {
      "provenance": []
    },
    "kernelspec": {
      "display_name": "Python 3.10.6 64-bit",
      "language": "python",
      "name": "python3"
    },
    "language_info": {
      "codemirror_mode": {
        "name": "ipython",
        "version": 3
      },
      "file_extension": ".py",
      "mimetype": "text/x-python",
      "name": "python",
      "nbconvert_exporter": "python",
      "pygments_lexer": "ipython3",
      "version": "3.10.6"
    },
    "vscode": {
      "interpreter": {
        "hash": "916dbcbb3f70747c44a77c7bcd40155683ae19c65e1c03b4aa3499c5328201f1"
      }
    }
  },
  "nbformat": 4,
  "nbformat_minor": 0
}
